{
  "nbformat": 4,
  "nbformat_minor": 0,
  "metadata": {
    "colab": {
      "name": "Regras_de_associacao.ipynb",
      "provenance": [],
      "collapsed_sections": []
    },
    "kernelspec": {
      "name": "python3",
      "display_name": "Python 3"
    }
  },
  "cells": [
    {
      "cell_type": "markdown",
      "metadata": {
        "id": "OTKrRNhJKPPE"
      },
      "source": [
        "# Regras de associação.\n",
        "\n",
        "Cálculos de itemsets frequentes com o algoritmo Apriori utilizando o pacote ```mlxt```.\n",
        "\n",
        "\n",
        "Este notebook foi desenvolvido para o ambiente GOOGLE COLAB ([colab.research.google.com](https://colab.research.google.com)).\n",
        "\n",
        "Prof. Hugo de Paula\n",
        "\n"
      ]
    },
    {
      "cell_type": "code",
      "metadata": {
        "id": "71r1sShzG4Sg",
        "colab": {
          "base_uri": "https://localhost:8080/"
        },
        "outputId": "457c5e8e-37b3-48f4-c023-03308a8ad3bf"
      },
      "source": [
        "! pip install mlxtend\n",
        "! pip install xlrd"
      ],
      "execution_count": null,
      "outputs": [
        {
          "output_type": "stream",
          "name": "stdout",
          "text": [
            "Requirement already satisfied: mlxtend in /usr/local/lib/python3.7/dist-packages (0.14.0)\n",
            "Requirement already satisfied: matplotlib>=1.5.1 in /usr/local/lib/python3.7/dist-packages (from mlxtend) (3.2.2)\n",
            "Requirement already satisfied: pandas>=0.17.1 in /usr/local/lib/python3.7/dist-packages (from mlxtend) (1.1.5)\n",
            "Requirement already satisfied: setuptools in /usr/local/lib/python3.7/dist-packages (from mlxtend) (57.4.0)\n",
            "Requirement already satisfied: scikit-learn>=0.18 in /usr/local/lib/python3.7/dist-packages (from mlxtend) (0.22.2.post1)\n",
            "Requirement already satisfied: numpy>=1.10.4 in /usr/local/lib/python3.7/dist-packages (from mlxtend) (1.19.5)\n",
            "Requirement already satisfied: scipy>=0.17 in /usr/local/lib/python3.7/dist-packages (from mlxtend) (1.4.1)\n",
            "Requirement already satisfied: pyparsing!=2.0.4,!=2.1.2,!=2.1.6,>=2.0.1 in /usr/local/lib/python3.7/dist-packages (from matplotlib>=1.5.1->mlxtend) (2.4.7)\n",
            "Requirement already satisfied: cycler>=0.10 in /usr/local/lib/python3.7/dist-packages (from matplotlib>=1.5.1->mlxtend) (0.10.0)\n",
            "Requirement already satisfied: kiwisolver>=1.0.1 in /usr/local/lib/python3.7/dist-packages (from matplotlib>=1.5.1->mlxtend) (1.3.1)\n",
            "Requirement already satisfied: python-dateutil>=2.1 in /usr/local/lib/python3.7/dist-packages (from matplotlib>=1.5.1->mlxtend) (2.8.2)\n",
            "Requirement already satisfied: six in /usr/local/lib/python3.7/dist-packages (from cycler>=0.10->matplotlib>=1.5.1->mlxtend) (1.15.0)\n",
            "Requirement already satisfied: pytz>=2017.2 in /usr/local/lib/python3.7/dist-packages (from pandas>=0.17.1->mlxtend) (2018.9)\n",
            "Requirement already satisfied: joblib>=0.11 in /usr/local/lib/python3.7/dist-packages (from scikit-learn>=0.18->mlxtend) (1.0.1)\n",
            "Requirement already satisfied: xlrd in /usr/local/lib/python3.7/dist-packages (1.1.0)\n"
          ]
        }
      ]
    },
    {
      "cell_type": "markdown",
      "metadata": {
        "id": "85pBDThSU8W9"
      },
      "source": [
        "## Regras de associação geradas a partir de itemsets frequentes\n",
        "\n",
        "Fonte: https://rasbt.github.io/mlxtend/user_guide/frequent_patterns/association_rules/\n",
        "\n",
        "No exemplo a seguir, foi criado um ```dataset```  transacional formado por uma \"lista de listas\", onde cada linha corresponde a um cesto de compras de um supermercado hipotético.\n",
        "\n",
        "Nesta base, são considerados ```itemsets``` frequentes aqueles que possuírem suporte superior a 0.6."
      ]
    },
    {
      "cell_type": "code",
      "metadata": {
        "id": "YZq-r_5kTUN4",
        "colab": {
          "base_uri": "https://localhost:8080/"
        },
        "outputId": "0f27348c-29e5-4e0d-df5f-bd9860b5111d"
      },
      "source": [
        "\n",
        "import pandas as pd\n",
        "from mlxtend.preprocessing import TransactionEncoder\n",
        "from mlxtend.frequent_patterns import apriori\n",
        "from mlxtend.frequent_patterns import association_rules\n",
        "\n",
        "# Dataset transcional com cestos de compras\n",
        "\n",
        "dataset = [['Leite', 'Cebola', 'Batata', 'Feijão', 'Ovos', 'Iogurte'],\n",
        "           ['Arroz', 'Cebola', 'Batata', 'Feijão', 'Ovos', 'Iogurte'],\n",
        "           ['Leite', 'Maçã', 'Feijão', 'Ovos'],\n",
        "           ['Leite', 'Milho', 'Feijão', 'Iogurte'],\n",
        "           ['Milho', 'Cebola', 'Feijão', 'Sorvete', 'Ovos']]\n",
        "\n",
        "te = TransactionEncoder()\n",
        "te_ary = te.fit(dataset).transform(dataset)\n",
        "df = pd.DataFrame(te_ary, columns=te.columns_)\n",
        "frequent_itemsets = apriori(df, min_support=0.6, use_colnames=True)\n",
        "\n",
        "print(frequent_itemsets)"
      ],
      "execution_count": null,
      "outputs": [
        {
          "output_type": "stream",
          "name": "stdout",
          "text": [
            "    support                itemsets\n",
            "0       0.6                (Cebola)\n",
            "1       1.0                (Feijão)\n",
            "2       0.6               (Iogurte)\n",
            "3       0.6                 (Leite)\n",
            "4       0.8                  (Ovos)\n",
            "5       0.6        (Feijão, Cebola)\n",
            "6       0.6          (Cebola, Ovos)\n",
            "7       0.6       (Iogurte, Feijão)\n",
            "8       0.6         (Feijão, Leite)\n",
            "9       0.8          (Feijão, Ovos)\n",
            "10      0.6  (Feijão, Cebola, Ovos)\n"
          ]
        }
      ]
    },
    {
      "cell_type": "markdown",
      "metadata": {
        "id": "VSJBbWaElS3q"
      },
      "source": [
        "###Regras de associação\n",
        "\n",
        "Gera regras de associação com confiança mínima de 0.7."
      ]
    },
    {
      "cell_type": "code",
      "metadata": {
        "id": "b6aF5HrwTauh",
        "colab": {
          "base_uri": "https://localhost:8080/",
          "height": 421
        },
        "outputId": "c25f65c1-c533-4dbd-d586-9e9111b9f37f"
      },
      "source": [
        "association_rules(frequent_itemsets, metric=\"confidence\", min_threshold=0.7)"
      ],
      "execution_count": null,
      "outputs": [
        {
          "output_type": "execute_result",
          "data": {
            "text/html": [
              "<div>\n",
              "<style scoped>\n",
              "    .dataframe tbody tr th:only-of-type {\n",
              "        vertical-align: middle;\n",
              "    }\n",
              "\n",
              "    .dataframe tbody tr th {\n",
              "        vertical-align: top;\n",
              "    }\n",
              "\n",
              "    .dataframe thead th {\n",
              "        text-align: right;\n",
              "    }\n",
              "</style>\n",
              "<table border=\"1\" class=\"dataframe\">\n",
              "  <thead>\n",
              "    <tr style=\"text-align: right;\">\n",
              "      <th></th>\n",
              "      <th>antecedents</th>\n",
              "      <th>consequents</th>\n",
              "      <th>antecedent support</th>\n",
              "      <th>consequent support</th>\n",
              "      <th>support</th>\n",
              "      <th>confidence</th>\n",
              "      <th>lift</th>\n",
              "      <th>leverage</th>\n",
              "      <th>conviction</th>\n",
              "    </tr>\n",
              "  </thead>\n",
              "  <tbody>\n",
              "    <tr>\n",
              "      <th>0</th>\n",
              "      <td>(Cebola)</td>\n",
              "      <td>(Feijão)</td>\n",
              "      <td>0.6</td>\n",
              "      <td>1.0</td>\n",
              "      <td>0.6</td>\n",
              "      <td>1.00</td>\n",
              "      <td>1.00</td>\n",
              "      <td>0.00</td>\n",
              "      <td>inf</td>\n",
              "    </tr>\n",
              "    <tr>\n",
              "      <th>1</th>\n",
              "      <td>(Cebola)</td>\n",
              "      <td>(Ovos)</td>\n",
              "      <td>0.6</td>\n",
              "      <td>0.8</td>\n",
              "      <td>0.6</td>\n",
              "      <td>1.00</td>\n",
              "      <td>1.25</td>\n",
              "      <td>0.12</td>\n",
              "      <td>inf</td>\n",
              "    </tr>\n",
              "    <tr>\n",
              "      <th>2</th>\n",
              "      <td>(Ovos)</td>\n",
              "      <td>(Cebola)</td>\n",
              "      <td>0.8</td>\n",
              "      <td>0.6</td>\n",
              "      <td>0.6</td>\n",
              "      <td>0.75</td>\n",
              "      <td>1.25</td>\n",
              "      <td>0.12</td>\n",
              "      <td>1.6</td>\n",
              "    </tr>\n",
              "    <tr>\n",
              "      <th>3</th>\n",
              "      <td>(Iogurte)</td>\n",
              "      <td>(Feijão)</td>\n",
              "      <td>0.6</td>\n",
              "      <td>1.0</td>\n",
              "      <td>0.6</td>\n",
              "      <td>1.00</td>\n",
              "      <td>1.00</td>\n",
              "      <td>0.00</td>\n",
              "      <td>inf</td>\n",
              "    </tr>\n",
              "    <tr>\n",
              "      <th>4</th>\n",
              "      <td>(Leite)</td>\n",
              "      <td>(Feijão)</td>\n",
              "      <td>0.6</td>\n",
              "      <td>1.0</td>\n",
              "      <td>0.6</td>\n",
              "      <td>1.00</td>\n",
              "      <td>1.00</td>\n",
              "      <td>0.00</td>\n",
              "      <td>inf</td>\n",
              "    </tr>\n",
              "    <tr>\n",
              "      <th>5</th>\n",
              "      <td>(Feijão)</td>\n",
              "      <td>(Ovos)</td>\n",
              "      <td>1.0</td>\n",
              "      <td>0.8</td>\n",
              "      <td>0.8</td>\n",
              "      <td>0.80</td>\n",
              "      <td>1.00</td>\n",
              "      <td>0.00</td>\n",
              "      <td>1.0</td>\n",
              "    </tr>\n",
              "    <tr>\n",
              "      <th>6</th>\n",
              "      <td>(Ovos)</td>\n",
              "      <td>(Feijão)</td>\n",
              "      <td>0.8</td>\n",
              "      <td>1.0</td>\n",
              "      <td>0.8</td>\n",
              "      <td>1.00</td>\n",
              "      <td>1.00</td>\n",
              "      <td>0.00</td>\n",
              "      <td>inf</td>\n",
              "    </tr>\n",
              "    <tr>\n",
              "      <th>7</th>\n",
              "      <td>(Feijão, Cebola)</td>\n",
              "      <td>(Ovos)</td>\n",
              "      <td>0.6</td>\n",
              "      <td>0.8</td>\n",
              "      <td>0.6</td>\n",
              "      <td>1.00</td>\n",
              "      <td>1.25</td>\n",
              "      <td>0.12</td>\n",
              "      <td>inf</td>\n",
              "    </tr>\n",
              "    <tr>\n",
              "      <th>8</th>\n",
              "      <td>(Feijão, Ovos)</td>\n",
              "      <td>(Cebola)</td>\n",
              "      <td>0.8</td>\n",
              "      <td>0.6</td>\n",
              "      <td>0.6</td>\n",
              "      <td>0.75</td>\n",
              "      <td>1.25</td>\n",
              "      <td>0.12</td>\n",
              "      <td>1.6</td>\n",
              "    </tr>\n",
              "    <tr>\n",
              "      <th>9</th>\n",
              "      <td>(Cebola, Ovos)</td>\n",
              "      <td>(Feijão)</td>\n",
              "      <td>0.6</td>\n",
              "      <td>1.0</td>\n",
              "      <td>0.6</td>\n",
              "      <td>1.00</td>\n",
              "      <td>1.00</td>\n",
              "      <td>0.00</td>\n",
              "      <td>inf</td>\n",
              "    </tr>\n",
              "    <tr>\n",
              "      <th>10</th>\n",
              "      <td>(Cebola)</td>\n",
              "      <td>(Feijão, Ovos)</td>\n",
              "      <td>0.6</td>\n",
              "      <td>0.8</td>\n",
              "      <td>0.6</td>\n",
              "      <td>1.00</td>\n",
              "      <td>1.25</td>\n",
              "      <td>0.12</td>\n",
              "      <td>inf</td>\n",
              "    </tr>\n",
              "    <tr>\n",
              "      <th>11</th>\n",
              "      <td>(Ovos)</td>\n",
              "      <td>(Feijão, Cebola)</td>\n",
              "      <td>0.8</td>\n",
              "      <td>0.6</td>\n",
              "      <td>0.6</td>\n",
              "      <td>0.75</td>\n",
              "      <td>1.25</td>\n",
              "      <td>0.12</td>\n",
              "      <td>1.6</td>\n",
              "    </tr>\n",
              "  </tbody>\n",
              "</table>\n",
              "</div>"
            ],
            "text/plain": [
              "         antecedents       consequents  ...  leverage  conviction\n",
              "0           (Cebola)          (Feijão)  ...      0.00         inf\n",
              "1           (Cebola)            (Ovos)  ...      0.12         inf\n",
              "2             (Ovos)          (Cebola)  ...      0.12         1.6\n",
              "3          (Iogurte)          (Feijão)  ...      0.00         inf\n",
              "4            (Leite)          (Feijão)  ...      0.00         inf\n",
              "5           (Feijão)            (Ovos)  ...      0.00         1.0\n",
              "6             (Ovos)          (Feijão)  ...      0.00         inf\n",
              "7   (Feijão, Cebola)            (Ovos)  ...      0.12         inf\n",
              "8     (Feijão, Ovos)          (Cebola)  ...      0.12         1.6\n",
              "9     (Cebola, Ovos)          (Feijão)  ...      0.00         inf\n",
              "10          (Cebola)    (Feijão, Ovos)  ...      0.12         inf\n",
              "11            (Ovos)  (Feijão, Cebola)  ...      0.12         1.6\n",
              "\n",
              "[12 rows x 9 columns]"
            ]
          },
          "metadata": {},
          "execution_count": 5
        }
      ]
    },
    {
      "cell_type": "markdown",
      "metadata": {
        "id": "Qn1CPkz8lp8z"
      },
      "source": [
        "Gera regras de associação com lift mínimo de 1.2. \n",
        "\n",
        "É importante lembrar que valores de lift inferiores a 1 significam que a regra não possui causalidade relevante e não aumentam o nosso poder de previsão."
      ]
    },
    {
      "cell_type": "code",
      "metadata": {
        "id": "dlsEMkTDTnuF",
        "colab": {
          "base_uri": "https://localhost:8080/"
        },
        "outputId": "f1246264-d7f6-4bb3-f494-3d4e9051843a"
      },
      "source": [
        "rules = association_rules(frequent_itemsets, metric=\"lift\", min_threshold=1.2)\n",
        "print(rules)"
      ],
      "execution_count": null,
      "outputs": [
        {
          "output_type": "stream",
          "name": "stdout",
          "text": [
            "        antecedents       consequents  ...  leverage  conviction\n",
            "0          (Cebola)            (Ovos)  ...      0.12         inf\n",
            "1            (Ovos)          (Cebola)  ...      0.12         1.6\n",
            "2  (Feijão, Cebola)            (Ovos)  ...      0.12         inf\n",
            "3    (Feijão, Ovos)          (Cebola)  ...      0.12         1.6\n",
            "4          (Cebola)    (Feijão, Ovos)  ...      0.12         inf\n",
            "5            (Ovos)  (Feijão, Cebola)  ...      0.12         1.6\n",
            "\n",
            "[6 rows x 9 columns]\n"
          ]
        }
      ]
    },
    {
      "cell_type": "code",
      "metadata": {
        "id": "VEgixv_sTw-G",
        "colab": {
          "base_uri": "https://localhost:8080/"
        },
        "outputId": "0f893bf1-ead5-429f-8cc3-bb20c6eaf061"
      },
      "source": [
        "rules[\"antecedent_len\"] = rules[\"antecedents\"].apply(lambda x: len(x))\n",
        "print(rules)"
      ],
      "execution_count": null,
      "outputs": [
        {
          "output_type": "stream",
          "name": "stdout",
          "text": [
            "        antecedents       consequents  ...  conviction  antecedent_len\n",
            "0          (Cebola)            (Ovos)  ...         inf               1\n",
            "1            (Ovos)          (Cebola)  ...         1.6               1\n",
            "2  (Feijão, Cebola)            (Ovos)  ...         inf               2\n",
            "3    (Feijão, Ovos)          (Cebola)  ...         1.6               2\n",
            "4          (Cebola)    (Feijão, Ovos)  ...         inf               1\n",
            "5            (Ovos)  (Feijão, Cebola)  ...         1.6               1\n",
            "\n",
            "[6 rows x 10 columns]\n"
          ]
        }
      ]
    },
    {
      "cell_type": "markdown",
      "metadata": {
        "id": "EZZv3lVOmdIj"
      },
      "source": [
        "Exibe apenas as regras com antecedentes de comprimento maior ou igual a 2 e com confiança superior a 0.75 e lift superior a 1.2."
      ]
    },
    {
      "cell_type": "code",
      "metadata": {
        "id": "htAdoviHT2l2",
        "colab": {
          "base_uri": "https://localhost:8080/",
          "height": 80
        },
        "outputId": "2e893675-82dc-44a7-e8be-188c388a7607"
      },
      "source": [
        "rules[ (rules['antecedent_len'] >= 2) &\n",
        "       (rules['confidence'] > 0.75) &\n",
        "       (rules['lift'] > 1.2) ]"
      ],
      "execution_count": null,
      "outputs": [
        {
          "output_type": "execute_result",
          "data": {
            "text/html": [
              "<div>\n",
              "<style scoped>\n",
              "    .dataframe tbody tr th:only-of-type {\n",
              "        vertical-align: middle;\n",
              "    }\n",
              "\n",
              "    .dataframe tbody tr th {\n",
              "        vertical-align: top;\n",
              "    }\n",
              "\n",
              "    .dataframe thead th {\n",
              "        text-align: right;\n",
              "    }\n",
              "</style>\n",
              "<table border=\"1\" class=\"dataframe\">\n",
              "  <thead>\n",
              "    <tr style=\"text-align: right;\">\n",
              "      <th></th>\n",
              "      <th>antecedents</th>\n",
              "      <th>consequents</th>\n",
              "      <th>antecedent support</th>\n",
              "      <th>consequent support</th>\n",
              "      <th>support</th>\n",
              "      <th>confidence</th>\n",
              "      <th>lift</th>\n",
              "      <th>leverage</th>\n",
              "      <th>conviction</th>\n",
              "      <th>antecedent_len</th>\n",
              "    </tr>\n",
              "  </thead>\n",
              "  <tbody>\n",
              "    <tr>\n",
              "      <th>2</th>\n",
              "      <td>(Feijão, Cebola)</td>\n",
              "      <td>(Ovos)</td>\n",
              "      <td>0.6</td>\n",
              "      <td>0.8</td>\n",
              "      <td>0.6</td>\n",
              "      <td>1.0</td>\n",
              "      <td>1.25</td>\n",
              "      <td>0.12</td>\n",
              "      <td>inf</td>\n",
              "      <td>2</td>\n",
              "    </tr>\n",
              "  </tbody>\n",
              "</table>\n",
              "</div>"
            ],
            "text/plain": [
              "        antecedents consequents  ...  conviction  antecedent_len\n",
              "2  (Feijão, Cebola)      (Ovos)  ...         inf               2\n",
              "\n",
              "[1 rows x 10 columns]"
            ]
          },
          "metadata": {},
          "execution_count": 8
        }
      ]
    },
    {
      "cell_type": "markdown",
      "metadata": {
        "id": "-n0tMsDfmktX"
      },
      "source": [
        "Exibe apenas as regras cujos antecedentes são Feijão e Ovos."
      ]
    },
    {
      "cell_type": "code",
      "metadata": {
        "id": "4adjnVUNT8kW",
        "colab": {
          "base_uri": "https://localhost:8080/",
          "height": 81
        },
        "outputId": "ece1f736-0a3e-47c3-f47e-78f37c37a639"
      },
      "source": [
        "rules[rules['antecedents'] == {'Ovos', 'Feijão'}]"
      ],
      "execution_count": null,
      "outputs": [
        {
          "output_type": "execute_result",
          "data": {
            "text/html": [
              "<div>\n",
              "<style scoped>\n",
              "    .dataframe tbody tr th:only-of-type {\n",
              "        vertical-align: middle;\n",
              "    }\n",
              "\n",
              "    .dataframe tbody tr th {\n",
              "        vertical-align: top;\n",
              "    }\n",
              "\n",
              "    .dataframe thead th {\n",
              "        text-align: right;\n",
              "    }\n",
              "</style>\n",
              "<table border=\"1\" class=\"dataframe\">\n",
              "  <thead>\n",
              "    <tr style=\"text-align: right;\">\n",
              "      <th></th>\n",
              "      <th>antecedents</th>\n",
              "      <th>consequents</th>\n",
              "      <th>antecedent support</th>\n",
              "      <th>consequent support</th>\n",
              "      <th>support</th>\n",
              "      <th>confidence</th>\n",
              "      <th>lift</th>\n",
              "      <th>leverage</th>\n",
              "      <th>conviction</th>\n",
              "      <th>antecedent_len</th>\n",
              "    </tr>\n",
              "  </thead>\n",
              "  <tbody>\n",
              "    <tr>\n",
              "      <th>3</th>\n",
              "      <td>(Feijão, Ovos)</td>\n",
              "      <td>(Cebola)</td>\n",
              "      <td>0.8</td>\n",
              "      <td>0.6</td>\n",
              "      <td>0.6</td>\n",
              "      <td>0.75</td>\n",
              "      <td>1.25</td>\n",
              "      <td>0.12</td>\n",
              "      <td>1.6</td>\n",
              "      <td>2</td>\n",
              "    </tr>\n",
              "  </tbody>\n",
              "</table>\n",
              "</div>"
            ],
            "text/plain": [
              "      antecedents consequents  antecedent support  consequent support  \\\n",
              "3  (Feijão, Ovos)    (Cebola)                 0.8                 0.6   \n",
              "\n",
              "   support  confidence  lift  leverage  conviction  antecedent_len  \n",
              "3      0.6        0.75  1.25      0.12         1.6               2  "
            ]
          },
          "metadata": {
            "tags": []
          },
          "execution_count": 7
        }
      ]
    },
    {
      "cell_type": "markdown",
      "metadata": {
        "id": "bzaDkc7QIaTM"
      },
      "source": [
        "## Análise de cesta de compras em Python\n",
        "\n",
        "Fonte:  Chris Moffitt (2017), Introduction to Market Basket Analysis in Python, http://pbpython.com/market-basket-analysis.html\n",
        "\n",
        "\n",
        "Neste exemplo é utilizada a base de dados **Online Retail** da UCI, disponível em [archive.ics.uci.edu/ml/machine-learning-databases/00352/Online Retail.xlsx](http://archive.ics.uci.edu/ml/machine-learning-databases/00352/Online%20Retail.xlsx)"
      ]
    },
    {
      "cell_type": "code",
      "metadata": {
        "id": "tSjbmxNbGfyP"
      },
      "source": [
        "import numpy as np\n",
        "import matplotlib.pyplot as plt\n",
        "import pandas as pd\n",
        "from mlxtend.frequent_patterns import apriori\n",
        "from mlxtend.frequent_patterns import association_rules"
      ],
      "execution_count": null,
      "outputs": []
    },
    {
      "cell_type": "code",
      "metadata": {
        "id": "UnsPPCZFLROA",
        "colab": {
          "base_uri": "https://localhost:8080/"
        },
        "outputId": "4fb421a8-2f54-4aa4-d132-ffa004fcf3e9"
      },
      "source": [
        "df = pd.read_excel('http://archive.ics.uci.edu/ml/machine-learning-databases/00352/Online%20Retail.xlsx')\n",
        "print(df.head())"
      ],
      "execution_count": null,
      "outputs": [
        {
          "output_type": "stream",
          "name": "stdout",
          "text": [
            "  InvoiceNo StockCode  ... CustomerID         Country\n",
            "0    536365    85123A  ...    17850.0  United Kingdom\n",
            "1    536365     71053  ...    17850.0  United Kingdom\n",
            "2    536365    84406B  ...    17850.0  United Kingdom\n",
            "3    536365    84029G  ...    17850.0  United Kingdom\n",
            "4    536365    84029E  ...    17850.0  United Kingdom\n",
            "\n",
            "[5 rows x 8 columns]\n"
          ]
        }
      ]
    },
    {
      "cell_type": "code",
      "metadata": {
        "id": "a9znXarYMZx_",
        "colab": {
          "base_uri": "https://localhost:8080/"
        },
        "outputId": "ebf03276-bf8d-490e-ec40-f72cede58d1c"
      },
      "source": [
        "print(df.describe())"
      ],
      "execution_count": null,
      "outputs": [
        {
          "output_type": "stream",
          "name": "stdout",
          "text": [
            "            Quantity      UnitPrice     CustomerID\n",
            "count  541909.000000  541909.000000  406829.000000\n",
            "mean        9.552250       4.611114   15287.690570\n",
            "std       218.081158      96.759853    1713.600303\n",
            "min    -80995.000000  -11062.060000   12346.000000\n",
            "25%         1.000000       1.250000   13953.000000\n",
            "50%         3.000000       2.080000   15152.000000\n",
            "75%        10.000000       4.130000   16791.000000\n",
            "max     80995.000000   38970.000000   18287.000000\n"
          ]
        }
      ]
    },
    {
      "cell_type": "markdown",
      "metadata": {
        "id": "dfMlYwsWoAIX"
      },
      "source": [
        "### Preparação de dados\n",
        "\n",
        "\n",
        "Comando ```strip()``` elimina espaços no início e fim da string.\n",
        "\n",
        "Comando ```dropna()``` remove registros com valores faltantes (*missing values*) no campo ```InvoiceNo```.\n",
        "\n",
        "Comando ```df[~df['InvoiceNo'].str.contains('C')]``` remove registros com ```InvoiceNo``` iniciados com a letra *'C'*, uma vez que esses campos correspondem a pedidos cancelados.\n",
        "\n",
        "\n",
        "\n"
      ]
    },
    {
      "cell_type": "code",
      "metadata": {
        "id": "oRCYNsV3I0CQ",
        "colab": {
          "base_uri": "https://localhost:8080/"
        },
        "outputId": "021f34b2-1666-48a6-f435-23abeed317ba"
      },
      "source": [
        "df['Description'] = df['Description'].str.strip()\n",
        "df.dropna(axis=0, subset=['InvoiceNo'], inplace=True)\n",
        "df['InvoiceNo'] = df['InvoiceNo'].astype('str')\n",
        "df = df[~df['InvoiceNo'].str.contains('C')]\n",
        "print(df.describe())"
      ],
      "execution_count": null,
      "outputs": [
        {
          "output_type": "stream",
          "name": "stdout",
          "text": [
            "            Quantity      UnitPrice     CustomerID\n",
            "count  532621.000000  532621.000000  397924.000000\n",
            "mean       10.239972       3.847621   15294.315171\n",
            "std       159.593551      41.758023    1713.169877\n",
            "min     -9600.000000  -11062.060000   12346.000000\n",
            "25%         1.000000       1.250000   13969.000000\n",
            "50%         3.000000       2.080000   15159.000000\n",
            "75%        10.000000       4.130000   16795.000000\n",
            "max     80995.000000   13541.330000   18287.000000\n"
          ]
        }
      ]
    },
    {
      "cell_type": "markdown",
      "metadata": {
        "id": "RVPK0aCqpUER"
      },
      "source": [
        "Gera uma base de dados apenas com pedidos da França. É gerada uma tabela pivô em que cada coluna corresponde à um produto e cada linha corresponde ao somatório da quantidade comprada daquele produto em um determinado pedido.\n"
      ]
    },
    {
      "cell_type": "code",
      "metadata": {
        "id": "IQ4c-W4TJT3X",
        "colab": {
          "base_uri": "https://localhost:8080/"
        },
        "outputId": "352868d4-42c2-4ea9-f4af-061ce11bf26d"
      },
      "source": [
        "basket = (df[df['Country'] ==\"France\"]\n",
        "          .groupby(['InvoiceNo', 'Description'])['Quantity']\n",
        "          .sum().unstack().reset_index().fillna(0)\n",
        "          .set_index('InvoiceNo'))\n",
        "print(basket.head())"
      ],
      "execution_count": null,
      "outputs": [
        {
          "output_type": "stream",
          "name": "stdout",
          "text": [
            "Description  10 COLOUR SPACEBOY PEN  ...  ZINC T-LIGHT HOLDER STARS SMALL\n",
            "InvoiceNo                            ...                                 \n",
            "536370                          0.0  ...                              0.0\n",
            "536852                          0.0  ...                              0.0\n",
            "536974                          0.0  ...                              0.0\n",
            "537065                          0.0  ...                              0.0\n",
            "537463                          0.0  ...                              0.0\n",
            "\n",
            "[5 rows x 1563 columns]\n"
          ]
        }
      ]
    },
    {
      "cell_type": "markdown",
      "metadata": {
        "id": "Z_bjZ4D1qXYS"
      },
      "source": [
        "Transforma as quantidades em 0 ou 1."
      ]
    },
    {
      "cell_type": "code",
      "metadata": {
        "id": "M9TbGW0LJcM4",
        "colab": {
          "base_uri": "https://localhost:8080/"
        },
        "outputId": "1cd835e1-878d-4666-cfca-e06b044b3a92"
      },
      "source": [
        "def encode_units(x):\n",
        "    if x <= 0:\n",
        "        return 0\n",
        "    if x >= 1:\n",
        "        return 1\n",
        "\n",
        "basket_sets = basket.applymap(encode_units)\n",
        "basket_sets.drop('POSTAGE', inplace=True, axis=1)\n",
        "\n",
        "print(basket_sets.head())"
      ],
      "execution_count": null,
      "outputs": [
        {
          "output_type": "stream",
          "name": "stdout",
          "text": [
            "Description  10 COLOUR SPACEBOY PEN  ...  ZINC T-LIGHT HOLDER STARS SMALL\n",
            "InvoiceNo                            ...                                 \n",
            "536370                            0  ...                                0\n",
            "536852                            0  ...                                0\n",
            "536974                            0  ...                                0\n",
            "537065                            0  ...                                0\n",
            "537463                            0  ...                                0\n",
            "\n",
            "[5 rows x 1562 columns]\n"
          ]
        }
      ]
    },
    {
      "cell_type": "markdown",
      "metadata": {
        "id": "J4cqdWRcqsrj"
      },
      "source": [
        "### Geração de ```itemsets``` frequentes e de regras de associação.\n",
        "\n"
      ]
    },
    {
      "cell_type": "code",
      "metadata": {
        "id": "7Yu3CIDBJlr5",
        "colab": {
          "base_uri": "https://localhost:8080/"
        },
        "outputId": "97ecf70c-ab01-43b7-e513-25661b08db7f"
      },
      "source": [
        "frequent_itemsets = apriori(basket_sets, min_support=0.07, use_colnames=True)\n",
        "print(frequent_itemsets)\n",
        "\n",
        "rules = association_rules(frequent_itemsets, metric=\"lift\", min_threshold=1)\n",
        "print(\"\\nAlgumas regras de associação geradas:\\n\", rules.head())\n",
        "print(\"\\nDimensões da matriz de regras:\", rules.shape)"
      ],
      "execution_count": null,
      "outputs": [
        {
          "output_type": "stream",
          "name": "stdout",
          "text": [
            "     support                                           itemsets\n",
            "0   0.071429                      (4 TRADITIONAL SPINNING TOPS)\n",
            "1   0.096939                       (ALARM CLOCK BAKELIKE GREEN)\n",
            "2   0.102041                        (ALARM CLOCK BAKELIKE PINK)\n",
            "3   0.094388                         (ALARM CLOCK BAKELIKE RED)\n",
            "4   0.081633                     (BAKING SET 9 PIECE RETROSPOT)\n",
            "5   0.071429                     (CHILDRENS CUTLERY DOLLY GIRL)\n",
            "6   0.099490                             (DOLLY GIRL LUNCH BOX)\n",
            "7   0.096939                          (JUMBO BAG RED RETROSPOT)\n",
            "8   0.076531                       (JUMBO BAG WOODLAND ANIMALS)\n",
            "9   0.125000                           (LUNCH BAG APPLE DESIGN)\n",
            "10  0.084184                      (LUNCH BAG DOLLY GIRL DESIGN)\n",
            "11  0.153061                          (LUNCH BAG RED RETROSPOT)\n",
            "12  0.119898                        (LUNCH BAG SPACEBOY DESIGN)\n",
            "13  0.117347                               (LUNCH BAG WOODLAND)\n",
            "14  0.142857                 (LUNCH BOX WITH CUTLERY RETROSPOT)\n",
            "15  0.104592                           (MINI PAINT SET VINTAGE)\n",
            "16  0.102041                  (PACK OF 72 RETROSPOT CAKE CASES)\n",
            "17  0.081633                          (PAPER BUNTING RETROSPOT)\n",
            "18  0.168367                    (PLASTERS IN TIN CIRCUS PARADE)\n",
            "19  0.137755                         (PLASTERS IN TIN SPACEBOY)\n",
            "20  0.081633                        (PLASTERS IN TIN STRONGMAN)\n",
            "21  0.170918                 (PLASTERS IN TIN WOODLAND ANIMALS)\n",
            "22  0.188776                               (RABBIT NIGHT LIGHT)\n",
            "23  0.096939                      (RED RETROSPOT CHARLOTTE BAG)\n",
            "24  0.137755                         (RED RETROSPOT MINI CASES)\n",
            "25  0.071429                         (RED RETROSPOT PICNIC BAG)\n",
            "26  0.181122                    (RED TOADSTOOL LED NIGHT LIGHT)\n",
            "27  0.125000                         (REGENCY CAKESTAND 3 TIER)\n",
            "28  0.086735                  (RETROSPOT TEA SET CERAMIC 11 PC)\n",
            "29  0.107143                (ROUND SNACK BOXES SET OF 4 FRUITS)\n",
            "30  0.158163               (ROUND SNACK BOXES SET OF4 WOODLAND)\n",
            "31  0.076531                (SET/10 RED POLKADOT PARTY CANDLES)\n",
            "32  0.132653               (SET/20 RED RETROSPOT PAPER NAPKINS)\n",
            "33  0.137755                      (SET/6 RED SPOTTY PAPER CUPS)\n",
            "34  0.127551                    (SET/6 RED SPOTTY PAPER PLATES)\n",
            "35  0.071429                           (SPACEBOY BIRTHDAY CARD)\n",
            "36  0.125000                               (SPACEBOY LUNCH BOX)\n",
            "37  0.122449                (STRAWBERRY LUNCH BOX WITH CUTLERY)\n",
            "38  0.094388                          (TEA PARTY BIRTHDAY CARD)\n",
            "39  0.073980                           (WOODLAND CHARLOTTE BAG)\n",
            "40  0.073980  (ALARM CLOCK BAKELIKE PINK, ALARM CLOCK BAKELI...\n",
            "41  0.079082  (ALARM CLOCK BAKELIKE GREEN, ALARM CLOCK BAKEL...\n",
            "42  0.073980  (ALARM CLOCK BAKELIKE PINK, ALARM CLOCK BAKELI...\n",
            "43  0.071429         (SPACEBOY LUNCH BOX, DOLLY GIRL LUNCH BOX)\n",
            "44  0.089286  (PLASTERS IN TIN SPACEBOY, PLASTERS IN TIN CIR...\n",
            "45  0.102041  (PLASTERS IN TIN WOODLAND ANIMALS, PLASTERS IN...\n",
            "46  0.104592  (PLASTERS IN TIN WOODLAND ANIMALS, PLASTERS IN...\n",
            "47  0.102041  (SET/20 RED RETROSPOT PAPER NAPKINS, SET/6 RED...\n",
            "48  0.102041  (SET/20 RED RETROSPOT PAPER NAPKINS, SET/6 RED...\n",
            "49  0.122449  (SET/6 RED SPOTTY PAPER PLATES, SET/6 RED SPOT...\n",
            "50  0.099490  (SET/6 RED SPOTTY PAPER PLATES, SET/20 RED RET...\n",
            "\n",
            "Algumas regras de associação geradas:\n",
            "                     antecedents  ... conviction\n",
            "0   (ALARM CLOCK BAKELIKE PINK)  ...   3.283859\n",
            "1  (ALARM CLOCK BAKELIKE GREEN)  ...   3.791383\n",
            "2  (ALARM CLOCK BAKELIKE GREEN)  ...   4.916181\n",
            "3    (ALARM CLOCK BAKELIKE RED)  ...   5.568878\n",
            "4   (ALARM CLOCK BAKELIKE PINK)  ...   3.293135\n",
            "\n",
            "[5 rows x 9 columns]\n",
            "\n",
            "Dimensões da matriz de regras: (26, 9)\n"
          ]
        }
      ]
    },
    {
      "cell_type": "markdown",
      "metadata": {
        "id": "JGVoztRVqreL"
      },
      "source": [
        "### Exemplos de filtros sobre regras de associação"
      ]
    },
    {
      "cell_type": "code",
      "metadata": {
        "id": "Zrqupm1KJ2rx",
        "colab": {
          "base_uri": "https://localhost:8080/",
          "height": 297
        },
        "outputId": "d86846b8-c9c4-44ef-ccf2-90a067243713"
      },
      "source": [
        "rules[ (rules['lift'] >= 6) &\n",
        "       (rules['confidence'] >= 0.8) ]"
      ],
      "execution_count": null,
      "outputs": [
        {
          "output_type": "execute_result",
          "data": {
            "text/html": [
              "<div>\n",
              "<style scoped>\n",
              "    .dataframe tbody tr th:only-of-type {\n",
              "        vertical-align: middle;\n",
              "    }\n",
              "\n",
              "    .dataframe tbody tr th {\n",
              "        vertical-align: top;\n",
              "    }\n",
              "\n",
              "    .dataframe thead th {\n",
              "        text-align: right;\n",
              "    }\n",
              "</style>\n",
              "<table border=\"1\" class=\"dataframe\">\n",
              "  <thead>\n",
              "    <tr style=\"text-align: right;\">\n",
              "      <th></th>\n",
              "      <th>antecedents</th>\n",
              "      <th>consequents</th>\n",
              "      <th>antecedent support</th>\n",
              "      <th>consequent support</th>\n",
              "      <th>support</th>\n",
              "      <th>confidence</th>\n",
              "      <th>lift</th>\n",
              "      <th>leverage</th>\n",
              "      <th>conviction</th>\n",
              "    </tr>\n",
              "  </thead>\n",
              "  <tbody>\n",
              "    <tr>\n",
              "      <th>2</th>\n",
              "      <td>(ALARM CLOCK BAKELIKE GREEN)</td>\n",
              "      <td>(ALARM CLOCK BAKELIKE RED)</td>\n",
              "      <td>0.096939</td>\n",
              "      <td>0.094388</td>\n",
              "      <td>0.079082</td>\n",
              "      <td>0.815789</td>\n",
              "      <td>8.642959</td>\n",
              "      <td>0.069932</td>\n",
              "      <td>4.916181</td>\n",
              "    </tr>\n",
              "    <tr>\n",
              "      <th>3</th>\n",
              "      <td>(ALARM CLOCK BAKELIKE RED)</td>\n",
              "      <td>(ALARM CLOCK BAKELIKE GREEN)</td>\n",
              "      <td>0.094388</td>\n",
              "      <td>0.096939</td>\n",
              "      <td>0.079082</td>\n",
              "      <td>0.837838</td>\n",
              "      <td>8.642959</td>\n",
              "      <td>0.069932</td>\n",
              "      <td>5.568878</td>\n",
              "    </tr>\n",
              "    <tr>\n",
              "      <th>17</th>\n",
              "      <td>(SET/6 RED SPOTTY PAPER PLATES)</td>\n",
              "      <td>(SET/20 RED RETROSPOT PAPER NAPKINS)</td>\n",
              "      <td>0.127551</td>\n",
              "      <td>0.132653</td>\n",
              "      <td>0.102041</td>\n",
              "      <td>0.800000</td>\n",
              "      <td>6.030769</td>\n",
              "      <td>0.085121</td>\n",
              "      <td>4.336735</td>\n",
              "    </tr>\n",
              "    <tr>\n",
              "      <th>18</th>\n",
              "      <td>(SET/6 RED SPOTTY PAPER PLATES)</td>\n",
              "      <td>(SET/6 RED SPOTTY PAPER CUPS)</td>\n",
              "      <td>0.127551</td>\n",
              "      <td>0.137755</td>\n",
              "      <td>0.122449</td>\n",
              "      <td>0.960000</td>\n",
              "      <td>6.968889</td>\n",
              "      <td>0.104878</td>\n",
              "      <td>21.556122</td>\n",
              "    </tr>\n",
              "    <tr>\n",
              "      <th>19</th>\n",
              "      <td>(SET/6 RED SPOTTY PAPER CUPS)</td>\n",
              "      <td>(SET/6 RED SPOTTY PAPER PLATES)</td>\n",
              "      <td>0.137755</td>\n",
              "      <td>0.127551</td>\n",
              "      <td>0.122449</td>\n",
              "      <td>0.888889</td>\n",
              "      <td>6.968889</td>\n",
              "      <td>0.104878</td>\n",
              "      <td>7.852041</td>\n",
              "    </tr>\n",
              "    <tr>\n",
              "      <th>20</th>\n",
              "      <td>(SET/20 RED RETROSPOT PAPER NAPKINS, SET/6 RED...</td>\n",
              "      <td>(SET/6 RED SPOTTY PAPER CUPS)</td>\n",
              "      <td>0.102041</td>\n",
              "      <td>0.137755</td>\n",
              "      <td>0.099490</td>\n",
              "      <td>0.975000</td>\n",
              "      <td>7.077778</td>\n",
              "      <td>0.085433</td>\n",
              "      <td>34.489796</td>\n",
              "    </tr>\n",
              "    <tr>\n",
              "      <th>21</th>\n",
              "      <td>(SET/6 RED SPOTTY PAPER CUPS, SET/6 RED SPOTTY...</td>\n",
              "      <td>(SET/20 RED RETROSPOT PAPER NAPKINS)</td>\n",
              "      <td>0.122449</td>\n",
              "      <td>0.132653</td>\n",
              "      <td>0.099490</td>\n",
              "      <td>0.812500</td>\n",
              "      <td>6.125000</td>\n",
              "      <td>0.083247</td>\n",
              "      <td>4.625850</td>\n",
              "    </tr>\n",
              "    <tr>\n",
              "      <th>22</th>\n",
              "      <td>(SET/20 RED RETROSPOT PAPER NAPKINS, SET/6 RED...</td>\n",
              "      <td>(SET/6 RED SPOTTY PAPER PLATES)</td>\n",
              "      <td>0.102041</td>\n",
              "      <td>0.127551</td>\n",
              "      <td>0.099490</td>\n",
              "      <td>0.975000</td>\n",
              "      <td>7.644000</td>\n",
              "      <td>0.086474</td>\n",
              "      <td>34.897959</td>\n",
              "    </tr>\n",
              "  </tbody>\n",
              "</table>\n",
              "</div>"
            ],
            "text/plain": [
              "                                          antecedents  ... conviction\n",
              "2                        (ALARM CLOCK BAKELIKE GREEN)  ...   4.916181\n",
              "3                          (ALARM CLOCK BAKELIKE RED)  ...   5.568878\n",
              "17                    (SET/6 RED SPOTTY PAPER PLATES)  ...   4.336735\n",
              "18                    (SET/6 RED SPOTTY PAPER PLATES)  ...  21.556122\n",
              "19                      (SET/6 RED SPOTTY PAPER CUPS)  ...   7.852041\n",
              "20  (SET/20 RED RETROSPOT PAPER NAPKINS, SET/6 RED...  ...  34.489796\n",
              "21  (SET/6 RED SPOTTY PAPER CUPS, SET/6 RED SPOTTY...  ...   4.625850\n",
              "22  (SET/20 RED RETROSPOT PAPER NAPKINS, SET/6 RED...  ...  34.897959\n",
              "\n",
              "[8 rows x 9 columns]"
            ]
          },
          "metadata": {},
          "execution_count": 19
        }
      ]
    },
    {
      "cell_type": "code",
      "metadata": {
        "id": "SPH3l9E-J89a",
        "colab": {
          "base_uri": "https://localhost:8080/"
        },
        "outputId": "372a64f6-a9d8-4499-cace-03355ef794c8"
      },
      "source": [
        "basket['ALARM CLOCK BAKELIKE GREEN'].sum()"
      ],
      "execution_count": null,
      "outputs": [
        {
          "output_type": "execute_result",
          "data": {
            "text/plain": [
              "340.0"
            ]
          },
          "metadata": {},
          "execution_count": 20
        }
      ]
    },
    {
      "cell_type": "code",
      "metadata": {
        "id": "0gTRmETRKAFT",
        "colab": {
          "base_uri": "https://localhost:8080/"
        },
        "outputId": "952e79b2-a81f-455e-a3e3-0aaf3dc792b2"
      },
      "source": [
        "basket['ALARM CLOCK BAKELIKE RED'].sum()"
      ],
      "execution_count": null,
      "outputs": [
        {
          "output_type": "execute_result",
          "data": {
            "text/plain": [
              "316.0"
            ]
          },
          "metadata": {},
          "execution_count": 21
        }
      ]
    },
    {
      "cell_type": "markdown",
      "metadata": {
        "id": "M5UB8Be3rZ_1"
      },
      "source": [
        "### Análise de cesto de compras da Alemanha\n",
        "\n",
        "Esse código é semelhante ao código utilizado para gerar as regras da França. O objetivo é mostrar como que o suporte mínimo e a confiança mínima podem variar de uma base para outra. Um país pode ter um perfil de compras mais homogêneo e gerar regras com suporte maior, enquanto outro país pode gerar regras com suporte menor."
      ]
    },
    {
      "cell_type": "code",
      "metadata": {
        "id": "MFQClGSiKELj",
        "colab": {
          "base_uri": "https://localhost:8080/",
          "height": 142
        },
        "outputId": "88e21adf-2a16-4479-c89b-89e9778bbb33"
      },
      "source": [
        "basket2 = (df[df['Country'] ==\"Germany\"]\n",
        "          .groupby(['InvoiceNo', 'Description'])['Quantity']\n",
        "          .sum().unstack().reset_index().fillna(0)\n",
        "          .set_index('InvoiceNo'))\n",
        "\n",
        "basket_sets2 = basket2.applymap(encode_units)\n",
        "basket_sets2.drop('POSTAGE', inplace=True, axis=1)\n",
        "frequent_itemsets2 = apriori(basket_sets2, min_support=0.05, use_colnames=True)\n",
        "rules2 = association_rules(frequent_itemsets2, metric=\"lift\", min_threshold=1)\n",
        "\n",
        "rules2[ (rules2['lift'] >= 4) &\n",
        "        (rules2['confidence'] >= 0.5)]"
      ],
      "execution_count": null,
      "outputs": [
        {
          "output_type": "execute_result",
          "data": {
            "text/html": [
              "<div>\n",
              "<style scoped>\n",
              "    .dataframe tbody tr th:only-of-type {\n",
              "        vertical-align: middle;\n",
              "    }\n",
              "\n",
              "    .dataframe tbody tr th {\n",
              "        vertical-align: top;\n",
              "    }\n",
              "\n",
              "    .dataframe thead th {\n",
              "        text-align: right;\n",
              "    }\n",
              "</style>\n",
              "<table border=\"1\" class=\"dataframe\">\n",
              "  <thead>\n",
              "    <tr style=\"text-align: right;\">\n",
              "      <th></th>\n",
              "      <th>antecedents</th>\n",
              "      <th>consequents</th>\n",
              "      <th>antecedent support</th>\n",
              "      <th>consequent support</th>\n",
              "      <th>support</th>\n",
              "      <th>confidence</th>\n",
              "      <th>lift</th>\n",
              "      <th>leverage</th>\n",
              "      <th>conviction</th>\n",
              "    </tr>\n",
              "  </thead>\n",
              "  <tbody>\n",
              "    <tr>\n",
              "      <th>1</th>\n",
              "      <td>(PLASTERS IN TIN CIRCUS PARADE)</td>\n",
              "      <td>(PLASTERS IN TIN WOODLAND ANIMALS)</td>\n",
              "      <td>0.115974</td>\n",
              "      <td>0.137856</td>\n",
              "      <td>0.067834</td>\n",
              "      <td>0.584906</td>\n",
              "      <td>4.242887</td>\n",
              "      <td>0.051846</td>\n",
              "      <td>2.076984</td>\n",
              "    </tr>\n",
              "    <tr>\n",
              "      <th>7</th>\n",
              "      <td>(PLASTERS IN TIN SPACEBOY)</td>\n",
              "      <td>(PLASTERS IN TIN WOODLAND ANIMALS)</td>\n",
              "      <td>0.107221</td>\n",
              "      <td>0.137856</td>\n",
              "      <td>0.061269</td>\n",
              "      <td>0.571429</td>\n",
              "      <td>4.145125</td>\n",
              "      <td>0.046488</td>\n",
              "      <td>2.011670</td>\n",
              "    </tr>\n",
              "    <tr>\n",
              "      <th>11</th>\n",
              "      <td>(RED RETROSPOT CHARLOTTE BAG)</td>\n",
              "      <td>(WOODLAND CHARLOTTE BAG)</td>\n",
              "      <td>0.070022</td>\n",
              "      <td>0.126915</td>\n",
              "      <td>0.059081</td>\n",
              "      <td>0.843750</td>\n",
              "      <td>6.648168</td>\n",
              "      <td>0.050194</td>\n",
              "      <td>5.587746</td>\n",
              "    </tr>\n",
              "  </tbody>\n",
              "</table>\n",
              "</div>"
            ],
            "text/plain": [
              "                        antecedents  ... conviction\n",
              "1   (PLASTERS IN TIN CIRCUS PARADE)  ...   2.076984\n",
              "7        (PLASTERS IN TIN SPACEBOY)  ...   2.011670\n",
              "11    (RED RETROSPOT CHARLOTTE BAG)  ...   5.587746\n",
              "\n",
              "[3 rows x 9 columns]"
            ]
          },
          "metadata": {},
          "execution_count": 22
        }
      ]
    }
  ]
}